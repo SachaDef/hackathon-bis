{
 "cells": [
  {
   "cell_type": "markdown",
   "metadata": {},
   "source": [
    "# Hackathon 1: descriptive statistics, estimation and bootstrapping\n",
    "\n",
    "This project illustrates the course LEPL1109 with an industrial applications of statistics. You will analyse the performance of wind farms located in the Walloon Brabant near Beauvechain and in the high Fens, close to Elsenborn. Each wind farm exploits 8 wind turbines. The kinetic power, noted Pk, (in watt) of one wind turbine is calculated with the formula \n",
    "\n",
    "Pk (W) = 0.5 x Rho x S x V^3\n",
    "\n",
    "Where \n",
    "\n",
    "S   : is the surface of the circle in square meters with a radius equal to the length of blades (32 m).\n",
    "Rho : is the air density (“masse volumique”). We consider here an average value of 1.2 kg/m^3\n",
    "V   : is the speed of wind in m/s.\n",
    "\n",
    "According to the Betz limit, only 59.3% of the kinetic energy from wind can be used to spin the turbine and generate electricity. In reality, turbines cannot reach the Betz limit, and the efficiency is estimated to 42% of the kinetic power. One wind turbine generates an electric power Pe = 0.42 x Pk. \n",
    "\n",
    "The wind turbins are stopped if the wind speed is above 90 km/h.\n",
    "\n",
    "The file “BeauvechainWind.csv” and “Elsenborn.csv” contains the average daily wind speeds, measured in km/h, at Beauvechain and  Elsenborn (source www. https://www.ecad.eu/)\n",
    "\n",
    "FILE FORMAT (MISSING VALUE CODE IS -9999):\n",
    "01-06 SOUID: Source identifier\n",
    "08-15 DATE : Date YYYYMMDD\n",
    "17-21 FG   : wind speed in km/h\n",
    "23-27 Q_FG : Quality code for FG (0='valid'; 1='suspect'; 9='missing')\n",
    "\n",
    "\n",
    "## Report content\n",
    "\n",
    "•\tGrades are granted to the members whose names are in the Jupyter notebook. If your name doesn’t appear on the top of the notebook, you’ll get a 0, even though you are in a group on Moodle.\n",
    "\n",
    "•\tThe jupyter notebook must be compiled with printed results and next submitted via moodle. The absence of compiled results (or non-printed values) leads to a lower grade.\n",
    "\n",
    "## Report submission\n",
    "\n",
    "•\tDeadline, see moodle website. Submission after the deadline will not be accepted.\n",
    "\n",
    "•\tTo submit your report, go to the section “APP” on Moodle and the subsection “Soumission du rapport”. You can upload your work there. Once you are sure that it is your final version, click the button “Envoyer le devoir”. It is important that you don’t forget to click on this button ! \n",
    "\n",
    "•\tReports that have not been uploaded through Moodle will not be corrected.\n",
    "\n",
    "\n",
    "## Names and Noma of participants:\n",
    "\n",
    "Part. 1: Sacha Defrère (51621900)\n",
    "\n",
    "Part. 2: Alexandre Pirot (53811900)\n",
    "\n",
    "Part. 3: Thomas Hautier (80162000)\n",
    "\n",
    "Part. 4: Bryce Burignat (35171700)\n"
   ]
  },
  {
   "cell_type": "markdown",
   "metadata": {},
   "source": [
    "------------------------------------------------------------------------------------------------------\n",
    "1.\tWrite a function computing the electric power capacity (in Mega Watts = 10^6 W), for the two wind farms using wind data from the 1/1/2017 to the 1/1/2021\n",
    "\n",
    "•\tDo not forget to set the production to zero if the wind speed is above 90 km/h. \n",
    "\n",
    "•\tTake care to converts units.\n",
    "\n",
    "•\tRemove all days with missing data (error code 1 or 9) for Beauvechain or Elsenborn\n",
    "\n",
    "------------------------------------------------------------------------------------------------------"
   ]
  },
  {
   "cell_type": "code",
   "execution_count": 5,
   "metadata": {},
   "outputs": [
    {
     "name": "stdout",
     "output_type": "stream",
     "text": [
      "Total electric power produced at Elsenborn's farm between 01/01/2017 and 01/01/2021 [MW] :  {7989.294853189225}\n",
      "Total electric power produced at Beauvechain's farm between 01/01/2017 and 01/01/2021 [MW] :  {18222.757796311707}\n"
     ]
    }
   ],
   "source": [
    "from cmath import nan\n",
    "import pandas as pd\n",
    "from math import pi\n",
    "\n",
    "# Import and filter invalid data from Elsenborn\n",
    "df1 = pd.read_csv(\"Elsenborn.csv\")\n",
    "df1.columns = [x.strip() for x in df1.columns]\n",
    "df1 = df1.drop('SOUID', axis=1)\n",
    "df1 = df1[ ( (df1['FG'] != -9999) & (df1['Q_FG'] == 0) ) & ( (df1['DATE'] >= 20170101) & (df1['DATE'] <= 20210101) ) ]\n",
    "wind1 = df1['FG']\n",
    "n1 = len(df1.index)\n",
    "\n",
    "# Import and filter invalid data from Beauvechain\n",
    "df2 = pd.read_csv(\"Beauvechain.csv\")\n",
    "df2.columns = [x.strip() for x in df2.columns]\n",
    "df2 = df2.drop('SOUID', axis=1)\n",
    "df2 = df2[(df2[\"FG\"] != -9999) & (df2[\"Q_FG\"] == 0) & (df2['DATE'] >= 20170101) & (df2['DATE'] <= 20210101) ]\n",
    "wind2 = df2['FG']\n",
    "n2= len(df2.index)\n",
    "\n",
    "# Check than every used date is in both df, and check indexes\n",
    "df1['DATE'] = df1['DATE'].transform(lambda x: x if x in df2['DATE'].to_list() else nan)\n",
    "df1.dropna(inplace=True)\n",
    "df1.reset_index(drop=True, inplace=True)\n",
    "\n",
    "df2['DATE'] = df2['DATE'].transform(lambda x: x if x in df1['DATE'].to_list() else nan)\n",
    "df2.dropna(inplace=True)\n",
    "df2.reset_index(drop=True, inplace=True)\n",
    "\n",
    "\n",
    "def electricPower(raw_vit): #returns electric power in MW\n",
    "    vit = raw_vit/3.6\n",
    "\n",
    "    #Pk (W) = 0.5 x Rho x S x V^3\n",
    "    Pk = 0.5*1.2*(pi*(32**2))*(vit**3)\n",
    "    \n",
    "    #Pe = 0.42 x Pk\n",
    "    Pe = 0.42*Pk\n",
    "    return 8*(10**(-6))*Pe\n",
    "\n",
    "def make_power(row):\n",
    "    if row['FG'] > 90 : return 0\n",
    "    return electricPower(row['FG'])\n",
    "df1[\"POWER\"] = df1.apply(lambda row : make_power(row), axis=1)\n",
    "df2[\"POWER\"] = df2.apply(lambda row : make_power(row), axis=1)\n",
    "\n",
    "print(\"Total electric power produced at Elsenborn's farm between 01/01/2017 and 01/01/2021 [MW] : \", {df1[\"POWER\"].sum()})\n",
    "print(\"Total electric power produced at Beauvechain's farm between 01/01/2017 and 01/01/2021 [MW] : \", {df2[\"POWER\"].sum()})\n",
    "\n",
    "\n"
   ]
  },
  {
   "cell_type": "markdown",
   "metadata": {},
   "source": [
    "Comment briefly your results\n",
    "\n"
   ]
  },
  {
   "cell_type": "markdown",
   "metadata": {},
   "source": [
    "------------------------------------------------------------------------------------------------------------------------\n",
    "\n",
    "2.\tPlot histograms and box plots of electric power capacity (MW) from the 1/1/2017 to the 1/1/2021 (both sites). \n",
    "\n",
    "------------------------------------------------------------------------------------------------------------------------"
   ]
  },
  {
   "cell_type": "code",
   "execution_count": 45,
   "metadata": {},
   "outputs": [],
   "source": [
    "# Code here\n",
    "\n"
   ]
  },
  {
   "cell_type": "markdown",
   "metadata": {},
   "source": [
    "------------------------------------------------------------------------------------------------------\n",
    "\n",
    "3.\tCompare the following statistics of both sites and draw a first conclusions\n",
    "\n",
    "•\tAverage and median powers for each farm (MW)\n",
    "\n",
    "•\tStandard deviations of powers, for each farm (MW)\n",
    "\n",
    "•\t5% and 95% percentiles of powers, for each farm (MW)\n",
    "\n",
    "The average and standard deviation of the total power capacities (Beauvechain + Elsenborn).\n",
    "\n",
    "------------------------------------------------------------------------------------------------------"
   ]
  },
  {
   "cell_type": "code",
   "execution_count": 6,
   "metadata": {},
   "outputs": [
    {
     "name": "stdout",
     "output_type": "stream",
     "text": [
      "P1        5.650138\n",
      "P2       12.887382\n",
      "TOTAL    18.537520\n",
      "dtype: float64\n",
      "P1        9.765462\n",
      "P2       18.436978\n",
      "TOTAL    25.030715\n",
      "dtype: float64\n"
     ]
    }
   ],
   "source": [
    "# Code here\n",
    "from functools import total_ordering\n",
    "\n",
    "\n",
    "av1 = df1[\"POWER\"].mean()\n",
    "av2 = df2[\"POWER\"].mean()\n",
    "med1 = df1[\"POWER\"].quantile(0.5)\n",
    "med2 = df2[\"POWER\"].quantile(0.5)\n",
    "std1 = df1[\"POWER\"].std()\n",
    "std2 = df2[\"POWER\"].std()\n",
    "perc1_5 = df1[\"POWER\"].quantile(0.05)\n",
    "perc2_5 = df2[\"POWER\"].quantile(0.05)\n",
    "perc1_95 = df1[\"POWER\"].quantile(0.95)\n",
    "perc2_95 = df2[\"POWER\"].quantile(0.95)\n",
    "\n",
    "# SOMME POUR CHAQUE JOUR, puis .mean() et .std()\n",
    "power_df = pd.concat([df1[\"POWER\"], df2[\"POWER\"]], keys=[\"P1\", \"P2\"], axis=1)\n",
    "power_df[\"TOTAL\"] = power_df[\"P1\"] + power_df[\"P2\"]\n",
    "av = power_df[\"TOTAL\"].mean()\n",
    "std = power_df[\"TOTAL\"].std()\n",
    "\n",
    "print(power_df.mean())\n",
    "print(power_df.std())"
   ]
  },
  {
   "cell_type": "markdown",
   "metadata": {},
   "source": [
    "Comment briefly your results\n",
    "\n"
   ]
  },
  {
   "cell_type": "markdown",
   "metadata": {},
   "source": [
    "\n",
    "------------------------------------------------------------------------------------------------------\n",
    "4.\tFit Gamma and Inverse Gaussian distributions to wind speeds (in Km/h) in Beauvechain and Elsenborn. Estimate their parameters by log-likelihood maximization (MLE). Which distribution is the best one? Compare the histograms of winds with the fitted pdf’s on the same plot.\n",
    "------------------------------------------------------------------------------------------------------"
   ]
  },
  {
   "cell_type": "code",
   "execution_count": 7,
   "metadata": {},
   "outputs": [
    {
     "name": "stdout",
     "output_type": "stream",
     "text": [
      "0.17339208313199578, 0.008896369833454473, 2.8295476827825254\n"
     ]
    }
   ],
   "source": [
    "# Code here, gamma distribution\n",
    "from sys import api_version\n",
    "import scipy.stats as sc\n",
    "import numpy as np\n",
    "\n",
    "alpha1, loc1, beta1=sc.gamma.fit(power_df[\"P1\"])\n",
    "alpha2, loc2, beta2=sc.gamma.fit(power_df[\"P2\"])\n",
    "\n",
    "\n"
   ]
  },
  {
   "cell_type": "markdown",
   "metadata": {},
   "source": [
    "Comment briefly your results\n",
    "\n"
   ]
  },
  {
   "cell_type": "code",
   "execution_count": 25,
   "metadata": {},
   "outputs": [],
   "source": [
    "# Code here, inverse Gaussian\n",
    "\n"
   ]
  },
  {
   "cell_type": "markdown",
   "metadata": {},
   "source": [
    "Comment briefly your results\n"
   ]
  },
  {
   "cell_type": "markdown",
   "metadata": {},
   "source": [
    "------------------------------------------------------------------------------------------------------\n",
    "5.\tCompute numerically for both sites, the following statistics \n",
    "\n",
    "•\tExpected and median powers for each farm (MW)\n",
    "\n",
    "•\tStandard deviation of powers for each farm (MW)\n",
    "\n",
    "•\t5% and 95% percentiles of powers for each farm (MW)\n",
    "\n",
    "Use the best distributions fitted in Question 4 (not observed values)\n",
    "\n",
    "------------------------------------------------------------------------------------------------------"
   ]
  },
  {
   "cell_type": "code",
   "execution_count": 26,
   "metadata": {},
   "outputs": [],
   "source": [
    "# Code here\n",
    "\n"
   ]
  },
  {
   "cell_type": "markdown",
   "metadata": {},
   "source": [
    "Comment briefly your results\n",
    "\n"
   ]
  },
  {
   "cell_type": "markdown",
   "metadata": {},
   "source": [
    "------------------------------------------------------------------------------------------------------\n",
    "\n",
    "6.\tSame question as Q.4 but this time, you fit the best distribution by the methods of moments MM, (in Python). Compare parameter estimates and plot pdf’s obtained by MLE and MM for both wind farms.\n",
    "\n",
    "------------------------------------------------------------------------------------------------------"
   ]
  },
  {
   "cell_type": "code",
   "execution_count": 27,
   "metadata": {
    "scrolled": true
   },
   "outputs": [],
   "source": [
    "#code here\n",
    "\n"
   ]
  },
  {
   "cell_type": "markdown",
   "metadata": {},
   "source": [
    "------------------------------------------------------------------------------------------------------\n",
    "\n",
    "7.\tBootstrap 1000 times a sample of 500 daily speeds of wind for Beauvechain and compute a 5% confidence interval for parameter(s) estimates for the best distribution of Question 4) modelling winds in Beauvechain. How do you interpret the results\n",
    "\n",
    "------------------------------------------------------------------------------------------------------"
   ]
  },
  {
   "cell_type": "code",
   "execution_count": 28,
   "metadata": {},
   "outputs": [],
   "source": [
    "#code here\n",
    "\n"
   ]
  },
  {
   "cell_type": "markdown",
   "metadata": {},
   "source": [
    "Comment briefly your results\n",
    "\n"
   ]
  },
  {
   "cell_type": "markdown",
   "metadata": {},
   "source": [
    "------------------------------------------------------------------------------------------------------\n",
    "\n",
    "8.\tLet us denote by X the wind speed observed at Beauvechain on a day of the year. The winds observed over 30 days are denoted by (X1,…,X30). They are realizations of X, a random variable with the distribution fitted in Question 4. If M=max{ X1,…,X30},  \n",
    "\n",
    "•\tfind the statistical law of M (equation requested, hint use the cdf of X) \n",
    "\n",
    "•\tplot the pdf and cdf of M. \n",
    "\n",
    "•\tDetermine the wind value, p5, such that  P(M>p5)=95%.\n",
    "\n",
    "\n",
    "------------------------------------------------------------------------------------------------------"
   ]
  },
  {
   "cell_type": "markdown",
   "metadata": {},
   "source": [
    "Comment briefly your results\n",
    "\n"
   ]
  },
  {
   "cell_type": "code",
   "execution_count": 29,
   "metadata": {},
   "outputs": [],
   "source": [
    "# Code here\n",
    "\n"
   ]
  }
 ],
 "metadata": {
  "kernelspec": {
   "display_name": "Python 3.10.4 64-bit",
   "language": "python",
   "name": "python3"
  },
  "language_info": {
   "codemirror_mode": {
    "name": "ipython",
    "version": 3
   },
   "file_extension": ".py",
   "mimetype": "text/x-python",
   "name": "python",
   "nbconvert_exporter": "python",
   "pygments_lexer": "ipython3",
   "version": "3.10.4"
  },
  "vscode": {
   "interpreter": {
    "hash": "c133e709a721ee057dcec7e1089a2d7ae453447fb60460a0837b54886cd7d927"
   }
  }
 },
 "nbformat": 4,
 "nbformat_minor": 4
}
