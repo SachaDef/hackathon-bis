{
 "cells": [
  {
   "cell_type": "markdown",
   "metadata": {},
   "source": [
    "# Hackathon 1: descriptive statistics, estimation and bootstrapping\n",
    "\n",
    "This project illustrates the course LEPL1109 with an industrial applications of statistics. You will analyse the performance of wind farms located in the Walloon Brabant near Beauvechain and in the high Fens, close to Elsenborn. Each wind farm exploits 8 wind turbines. The kinetic power, noted Pk, (in watt) of one wind turbine is calculated with the formula \n",
    "\n",
    "Pk (W) = 0.5 x Rho x S x V^3\n",
    "\n",
    "Where \n",
    "\n",
    "S   : is the surface of the circle in square meters with a radius equal to the length of blades (32 m).\n",
    "Rho : is the air density (“masse volumique”). We consider here an average value of 1.2 kg/m^3\n",
    "V   : is the speed of wind in m/s.\n",
    "\n",
    "According to the Betz limit, only 59.3% of the kinetic energy from wind can be used to spin the turbine and generate electricity. In reality, turbines cannot reach the Betz limit, and the efficiency is estimated to 42% of the kinetic power. One wind turbine generates an electric power Pe = 0.42 x Pk. \n",
    "\n",
    "The wind turbins are stopped if the wind speed is above 90 km/h.\n",
    "\n",
    "The file “BeauvechainWind.csv” and “Elsenborn.csv” contains the average daily wind speeds, measured in km/h, at Beauvechain and  Elsenborn (source www. https://www.ecad.eu/)\n",
    "\n",
    "FILE FORMAT (MISSING VALUE CODE IS -9999):\n",
    "01-06 SOUID: Source identifier\n",
    "08-15 DATE : Date YYYYMMDD\n",
    "17-21 FG   : wind speed in km/h\n",
    "23-27 Q_FG : Quality code for FG (0='valid'; 1='suspect'; 9='missing')\n",
    "\n",
    "\n",
    "## Report content\n",
    "\n",
    "•\tGrades are granted to the members whose names are in the Jupyter notebook. If your name doesn’t appear on the top of the notebook, you’ll get a 0, even though you are in a group on Moodle.\n",
    "\n",
    "•\tThe jupyter notebook must be compiled with printed results and next submitted via moodle. The absence of compiled results (or non-printed values) leads to a lower grade.\n",
    "\n",
    "## Report submission\n",
    "\n",
    "•\tDeadline, see moodle website. Submission after the deadline will not be accepted.\n",
    "\n",
    "•\tTo submit your report, go to the section “APP” on Moodle and the subsection “Soumission du rapport”. You can upload your work there. Once you are sure that it is your final version, click the button “Envoyer le devoir”. It is important that you don’t forget to click on this button ! \n",
    "\n",
    "•\tReports that have not been uploaded through Moodle will not be corrected.\n",
    "\n",
    "\n",
    "## Names and Noma of participants:\n",
    "\n",
    "Part. 1: Sacha Defrère (51621900)\n",
    "\n",
    "Part. 2: Alexandre Pirot (53811900)\n",
    "\n",
    "Part. 3: Thomas Hautier (80162000)\n",
    "\n",
    "Part. 4: Bryce Burignat (35171700)\n",
    "\n",
    "Part. 5: Mathéo Ketels (23782000)\n",
    "\n",
    "Part. 6: Dylan Goffinet (08471900)\n"
   ]
  },
  {
   "cell_type": "markdown",
   "metadata": {},
   "source": [
    "------------------------------------------------------------------------------------------------------\n",
    "1.\tWrite a function computing the electric power capacity (in Mega Watts = 10^6 W), for the two wind farms using wind data from the 1/1/2017 to the 1/1/2021\n",
    "\n",
    "•\tDo not forget to set the production to zero if the wind speed is above 90 km/h. \n",
    "\n",
    "•\tTake care to converts units.\n",
    "\n",
    "•\tRemove all days with missing data (error code 1 or 9) for Beauvechain or Elsenborn\n",
    "\n",
    "------------------------------------------------------------------------------------------------------"
   ]
  },
  {
   "cell_type": "code",
   "execution_count": 2,
   "metadata": {},
   "outputs": [
    {
     "name": "stdout",
     "output_type": "stream",
     "text": [
      "Total electric power produced at Elsenborn's farm between 01/01/2017 and 01/01/2021 [MW] :  {7989.294853189225}\n",
      "Total electric power produced at Beauvechain's farm between 01/01/2017 and 01/01/2021 [MW] :  {18222.757796311707}\n"
     ]
    }
   ],
   "source": [
    "from cmath import nan\n",
    "import pandas as pd\n",
    "from math import pi\n",
    "import scipy.stats as sc\n",
    "import numpy as np\n",
    "import matplotlib.pyplot as plt\n",
    "\n",
    "# Import and filter invalid data from Elsenborn\n",
    "df1 = pd.read_csv(\"Elsenborn.csv\")\n",
    "df1.columns = [x.strip() for x in df1.columns]\n",
    "df1 = df1.drop('SOUID', axis=1)\n",
    "df1 = df1[ ( (df1['FG'] != -9999) & (df1['Q_FG'] == 0) ) & ( (df1['DATE'] >= 20170101) & (df1['DATE'] <= 20210101) ) ]\n",
    "wind1 = df1['FG']\n",
    "n1 = len(df1.index)\n",
    "\n",
    "# Import and filter invalid data from Beauvechain\n",
    "df2 = pd.read_csv(\"Beauvechain.csv\")\n",
    "df2.columns = [x.strip() for x in df2.columns]\n",
    "df2 = df2.drop('SOUID', axis=1)\n",
    "df2 = df2[(df2[\"FG\"] != -9999) & (df2[\"Q_FG\"] == 0) & (df2['DATE'] >= 20170101) & (df2['DATE'] <= 20210101) ]\n",
    "wind2 = df2['FG']\n",
    "n2= len(df2.index)\n",
    "\n",
    "# Check than every used date is in both df, and check indexes\n",
    "df1['DATE'] = df1['DATE'].transform(lambda x: x if x in df2['DATE'].to_list() else nan)\n",
    "df1.dropna(inplace=True)\n",
    "df1.reset_index(drop=True, inplace=True)\n",
    "\n",
    "df2['DATE'] = df2['DATE'].transform(lambda x: x if x in df1['DATE'].to_list() else nan)\n",
    "df2.dropna(inplace=True)\n",
    "df2.reset_index(drop=True, inplace=True)\n",
    "\n",
    "\n",
    "def electricPower(raw_vit): #returns electric power in MW\n",
    "    vit = raw_vit/3.6\n",
    "\n",
    "    #Pk (W) = 0.5 x Rho x S x V^3\n",
    "    Pk = 0.5*1.2*(pi*(32**2))*(vit**3)\n",
    "    \n",
    "    #Pe = 0.42 x Pk\n",
    "    Pe = 0.42*Pk\n",
    "    return 8*(10**(-6))*Pe\n",
    "\n",
    "def make_power(row):\n",
    "    if row['FG'] > 90 : return 0\n",
    "    return electricPower(row['FG'])\n",
    "df1[\"POWER\"] = df1.apply(lambda row : make_power(row), axis=1)\n",
    "df2[\"POWER\"] = df2.apply(lambda row : make_power(row), axis=1)\n",
    "\n",
    "print(\"Total electric power produced at Elsenborn's farm between 01/01/2017 and 01/01/2021 [MW] : \", {df1[\"POWER\"].sum()})\n",
    "print(\"Total electric power produced at Beauvechain's farm between 01/01/2017 and 01/01/2021 [MW] : \", {df2[\"POWER\"].sum()})\n",
    "\n",
    "\n"
   ]
  },
  {
   "cell_type": "markdown",
   "metadata": {},
   "source": [
    "Comment briefly your results\n",
    "\n"
   ]
  },
  {
   "cell_type": "markdown",
   "metadata": {},
   "source": [
    "# A commenter"
   ]
  },
  {
   "cell_type": "markdown",
   "metadata": {},
   "source": [
    "------------------------------------------------------------------------------------------------------------------------\n",
    "\n",
    "2.\tPlot histograms and box plots of electric power capacity (MW) from the 1/1/2017 to the 1/1/2021 (both sites). \n",
    "\n",
    "------------------------------------------------------------------------------------------------------------------------"
   ]
  },
  {
   "cell_type": "code",
   "execution_count": 6,
   "metadata": {},
   "outputs": [
    {
     "data": {
      "text/plain": [
       "Text(0.5, 1.0, 'Power capacity of Beauvechain')"
      ]
     },
     "execution_count": 6,
     "metadata": {},
     "output_type": "execute_result"
    },
    {
     "data": {
      "image/png": "[encoded data removed]",
      "text/plain": [
       "<Figure size 864x864 with 4 Axes>"
      ]
     },
     "metadata": {
      "needs_background": "light"
     },
     "output_type": "display_data"
    }
   ],
   "source": [
    "fig, axs = plt.subplots(2, 2, figsize=(12, 12), sharey='col')\n",
    "\n",
    "# Dataset 1\n",
    "axs[0][0].boxplot(df1[\"POWER\"].values)\n",
    "axs[0][0].set_title('Box plot of power capacity for Elsenborn')\n",
    "axs[0][1].set_ylabel('Power capacity (MW)')\n",
    "axs[0][1].hist(df1[\"POWER\"].values)\n",
    "axs[0][1].set_xlabel('Power capacity (MW)')\n",
    "axs[0][1].set_ylabel('Number of days')\n",
    "axs[0][1].set_title('Power capacity of Elsenborn')\n",
    "\n",
    "# Dataset 2\n",
    "axs[1][0].boxplot(df2[\"POWER\"].values)\n",
    "axs[1][0].set_title('Box plot of power electricity for Beauvechain')\n",
    "axs[1][1].set_ylabel('Power capacity (MW)')\n",
    "axs[1][1].hist(df2[\"POWER\"].values)\n",
    "axs[1][1].set_xlabel('Power capacity (MW)')\n",
    "axs[1][1].set_ylabel('Number of days')\n",
    "axs[1][1].set_title('Power capacity of Beauvechain')\n"
   ]
  },
  {
   "cell_type": "markdown",
   "metadata": {},
   "source": [
    "------------------------------------------------------------------------------------------------------\n",
    "\n",
    "3.\tCompare the following statistics of both sites and draw a first conclusions\n",
    "\n",
    "•\tAverage and median powers for each farm (MW)\n",
    "\n",
    "•\tStandard deviations of powers, for each farm (MW)\n",
    "\n",
    "•\t5% and 95% percentiles of powers, for each farm (MW)\n",
    "\n",
    "The average and standard deviation of the total power capacities (Beauvechain + Elsenborn).\n",
    "\n",
    "------------------------------------------------------------------------------------------------------"
   ]
  },
  {
   "cell_type": "code",
   "execution_count": 14,
   "metadata": {},
   "outputs": [
    {
     "name": "stdout",
     "output_type": "stream",
     "text": [
      "POWER MEAN : \n",
      "P1       5.650137802821234\n",
      "P2       12.887381751281264\n",
      "TOTAL    18.537519554102502\n",
      "\n",
      "POWER MEDIAN : \n",
      "P1       1.9216158840261655\n",
      "P2       4.995450667263333\n",
      "\n",
      "POWER STD : \n",
      "P1       9.76546199330332\n",
      "P2       18.436977517807893\n",
      "TOTAL    25.03071516391243\n",
      "\n",
      "POWER 5% percentile : \n",
      "P1       0.10133521263419236\n",
      "P2       0.24020198550327068\n",
      "\n",
      "POWER 95% percentile : \n",
      "P1       23.127086422515433\n",
      "P2       54.0756109922025\n"
     ]
    }
   ],
   "source": [
    "# Stats caracs\n",
    "mean1 = df1[\"POWER\"].mean()\n",
    "mean2 = df2[\"POWER\"].mean()\n",
    "med1 = df1[\"POWER\"].quantile(0.5)\n",
    "med2 = df2[\"POWER\"].quantile(0.5)\n",
    "std1 = df1[\"POWER\"].std()\n",
    "std2 = df2[\"POWER\"].std()\n",
    "perc1_5 = df1[\"POWER\"].quantile(0.05)\n",
    "perc2_5 = df2[\"POWER\"].quantile(0.05)\n",
    "perc1_95 = df1[\"POWER\"].quantile(0.95)\n",
    "perc2_95 = df2[\"POWER\"].quantile(0.95)\n",
    "\n",
    "# SOMME POUR CHAQUE JOUR, puis .mean() et .std()\n",
    "power_df = pd.concat([df1[\"POWER\"], df2[\"POWER\"]], keys=[\"P1\", \"P2\"], axis=1)\n",
    "power_df[\"TOTAL\"] = power_df[\"P1\"] + power_df[\"P2\"]\n",
    "mean = power_df[\"TOTAL\"].mean()\n",
    "std = power_df[\"TOTAL\"].std()\n",
    "\n",
    "print(\"POWER MEAN : \\n\" + \"P1       \" + str(mean1) + \"\\nP2       \" + str(mean2) + \"\\nTOTAL    \" + str(mean) + \"\\n\")\n",
    "print(\"POWER MEDIAN : \\n\" + \"P1       \" + str(med1) + \"\\nP2       \" + str(med2) + \"\\n\")\n",
    "print(\"POWER STD : \\n\" + \"P1       \" + str(std1) + \"\\nP2       \" + str(std2) + \"\\nTOTAL    \" + str(std))\n",
    "print(\"\\nPOWER 5% percentile : \\n\" + \"P1       \" + str(perc1_5) + \"\\nP2       \" + str(perc2_5))\n",
    "print(\"\\nPOWER 95% percentile : \\n\" + \"P1       \" + str(perc1_95) + \"\\nP2       \" + str(perc2_95))"
   ]
  },
  {
   "cell_type": "markdown",
   "metadata": {},
   "source": [
    "Comment briefly your results\n",
    "\n"
   ]
  },
  {
   "cell_type": "markdown",
   "metadata": {},
   "source": [
    "# A commenter"
   ]
  },
  {
   "cell_type": "markdown",
   "metadata": {},
   "source": [
    "\n",
    "------------------------------------------------------------------------------------------------------\n",
    "4.\tFit Gamma and Inverse Gaussian distributions to wind speeds (in Km/h) in Beauvechain and Elsenborn. Estimate their parameters by log-likelihood maximization (MLE). Which distribution is the best one? Compare the histograms of winds with the fitted pdf’s on the same plot.\n",
    "------------------------------------------------------------------------------------------------------"
   ]
  },
  {
   "cell_type": "code",
   "execution_count": 21,
   "metadata": {},
   "outputs": [
    {
     "name": "stdout",
     "output_type": "stream",
     "text": [
      "Gamma distribution's log-likelihood for Elseborn :     -6001.977402242852\n",
      "Gamma distribution's log-likelihood for Beauvechain :  -4374.756156695964 \n",
      "\n",
      "Inv. Gaussian distribution's log-likelihood for Elseborn :     -3585.249864930583\n",
      "Inv. Gaussian distribution's log-likelihood for Beauvechain :  -4877.218303067066\n"
     ]
    }
   ],
   "source": [
    "# Code here, gamma distribution\n",
    "def log_likelihood_gamma(data, alpha, loc, beta):\n",
    "    ans = []\n",
    "    for x in data:\n",
    "        y = sc.gamma.pdf(x, a=alpha, loc=loc, scale=beta)\n",
    "        ans.append(np.log(y))\n",
    "    return np.sum(ans)\n",
    "\n",
    "alpha1, loc1, beta1=sc.gamma.fit(power_df[\"P1\"])\n",
    "alpha2, loc2, beta2=sc.gamma.fit(power_df[\"P2\"])\n",
    "\n",
    "logL_gamma1 = log_likelihood_gamma(power_df[\"P1\"].values, alpha1, loc1, beta1)\n",
    "logL_gamma2 = log_likelihood_gamma(power_df[\"P2\"].values, alpha2, loc2, beta2)\n",
    "\n",
    "print(\"Gamma distribution's log-likelihood for Elseborn :    \", logL_gamma1)\n",
    "print(\"Gamma distribution's log-likelihood for Beauvechain : \", logL_gamma2, \"\\n\")\n",
    "\n",
    "# Code here, inverse Gaussian distribution\n",
    "mu1, loc1, scale1 = sc.invgauss.fit(power_df[\"P1\"])\n",
    "mu2, loc2, scale2 = sc.invgauss.fit(power_df[\"P2\"])\n",
    "\n",
    "def log_likelihood_invgauss(data, mu, loc, scale):\n",
    "    ans = []\n",
    "    for x in data:\n",
    "        y = sc.invgauss.pdf(x, mu, loc, scale)\n",
    "        ans.append(np.log(y))\n",
    "    return np.sum(ans)\n",
    "\n",
    "logL_invgauss1 = log_likelihood_invgauss(power_df[\"P1\"].values, mu1, loc1, scale1)\n",
    "logL_invgauss2 = log_likelihood_invgauss(power_df[\"P2\"].values, mu2, loc2, scale2)\n",
    "\n",
    "print(\"Inv. Gaussian distribution's log-likelihood for Elseborn :    \", logL_invgauss1)\n",
    "print(\"Inv. Gaussian distribution's log-likelihood for Beauvechain : \", logL_invgauss2)"
   ]
  },
  {
   "cell_type": "code",
   "execution_count": 22,
   "metadata": {},
   "outputs": [
    {
     "data": {
      "text/plain": [
       "<matplotlib.legend.Legend at 0x1e9833e9930>"
      ]
     },
     "execution_count": 22,
     "metadata": {},
     "output_type": "execute_result"
    },
    {
     "data": {
      "image/png": "[encoded data removed]",
      "text/plain": [
       "<Figure size 864x432 with 2 Axes>"
      ]
     },
     "metadata": {
      "needs_background": "light"
     },
     "output_type": "display_data"
    }
   ],
   "source": [
    "# Comparative Plots\n",
    "power_gamma1 = sc.gamma.rvs(alpha1, loc1, beta1, len(power_df[\"P1\"]))\n",
    "power_invgauss1 = sc.invgauss.rvs(mu1, loc1, scale1, len(power_df[\"P1\"]))\n",
    "power_gamma2 = sc.gamma.rvs(alpha2, loc2, beta2, len(power_df[\"P2\"]))\n",
    "power_invgauss2 = sc.invgauss.rvs(mu2, loc2, scale2, len(power_df[\"P2\"]))\n",
    "\n",
    "fig, axs = plt.subplots(1, 2, figsize=(12, 6), sharey='col')\n",
    "axs[0].hist(df1[\"POWER\"].values, 20, range=(df1[\"POWER\"].values.min(), 100), label=\"real\", density=True)\n",
    "axs[0].hist(power_invgauss1, 20, range=(power_invgauss1.min(), 100), alpha=0.6, label=\"invgauss\", color=\"green\", density=True)\n",
    "axs[0].hist(power_gamma1, 20, range=(power_gamma1.min(), 100), alpha=0.6, label=\"gamma\", color=\"orange\", density=True)\n",
    "axs[0].set_xlabel('power capacity (MW)')\n",
    "axs[0].set_ylabel('probability density')\n",
    "axs[0].set_title('Electric power capacity of gamma 1')\n",
    "axs[0].legend()\n",
    "\n",
    "axs[1].hist(df2[\"POWER\"].values, 20, range=(df2[\"POWER\"].values.min(), 200), label=\"real\", density=True)\n",
    "axs[1].hist(power_invgauss2, 20, range=(power_invgauss2.min(), 200), alpha=0.6, label=\"invgauss\", color=\"green\", density=True)\n",
    "axs[1].hist(power_gamma2, 20, range=(power_gamma2.min(), 200), alpha=0.6, label=\"gamma\", color=\"orange\", density=True)\n",
    "axs[1].set_xlabel('power capacity (MW)')\n",
    "axs[1].set_ylabel('probability density')\n",
    "axs[1].set_title('Electric power capacity of gamma 2')\n",
    "axs[1].legend()\n"
   ]
  },
  {
   "cell_type": "markdown",
   "metadata": {},
   "source": [
    "Comment briefly your results\n"
   ]
  },
  {
   "cell_type": "markdown",
   "metadata": {},
   "source": [
    "# In terms of pdf, invgauss seems to be the best choice for both"
   ]
  },
  {
   "cell_type": "markdown",
   "metadata": {},
   "source": [
    "------------------------------------------------------------------------------------------------------\n",
    "5.\tCompute numerically for both sites, the following statistics \n",
    "\n",
    "•\tExpected and median powers for each farm (MW)\n",
    "\n",
    "•\tStandard deviation of powers for each farm (MW)\n",
    "\n",
    "•\t5% and 95% percentiles of powers for each farm (MW)\n",
    "\n",
    "Use the best distributions fitted in Question 4 (not observed values)\n",
    "\n",
    "------------------------------------------------------------------------------------------------------"
   ]
  },
  {
   "cell_type": "code",
   "execution_count": 83,
   "metadata": {},
   "outputs": [
    {
     "name": "stdout",
     "output_type": "stream",
     "text": [
      "MEAN1 : 5.650137802821234 => 6.306209914484269 (rejected gamma = 0.3266327635003264)\n",
      "STD1 : 9.76546199330332 => 16.373530492341573 (rejected gamma = 1.1328750521827597)\n",
      "PERC1_5 : 0.10133521263419236 => 0.14714344237733576 (rejected gamma = -0.15226460809026085)\n",
      "PERC1_95 : 23.127086422515433 => 28.513201942599085 (rejected gamma = 2.49598282293)\n",
      "\n",
      "MEAN2 : 12.887381751281264 => 13.873574408827206 (rejected gamma = 13.034499427797167)\n",
      "STD2 : 18.436977517807893 => 25.16580439053685 (rejected gamma = 16.645657840411094)\n",
      "PERC2_5 : 0.24020198550327068 => 0.3825131552057435 (rejected gamma = -0.38159823907580026)\n",
      "PERC2_95 : 54.0756109922025 => 58.97821488645751 (rejected gamma = 45.3571692059784)\n",
      "\n"
     ]
    }
   ],
   "source": [
    "# dataset1 (invgauss)\n",
    "invgauss_mean1 = np.mean(power_invgauss1)\n",
    "invgauss_std1 = np.std(power_invgauss1)\n",
    "invgauss_perc1_5 = np.percentile(power_invgauss1, 5)\n",
    "invgauss_perc1_95 = np.percentile(power_invgauss1, 95)\n",
    "\n",
    "gamma_mean1 = np.mean(power_gamma1)\n",
    "gamma_std1 = np.std(power_gamma1)\n",
    "gamma_perc1_5 = np.percentile(power_gamma1, 5)\n",
    "gamma_perc1_95 = np.percentile(power_gamma1, 95)\n",
    "\n",
    "# dataset2 (invgauss)\n",
    "invgauss_mean2 = np.mean(power_invgauss2)\n",
    "invgauss_std2 = np.std(power_invgauss2)\n",
    "invgauss_perc2_5 = np.percentile(power_invgauss2, 5)\n",
    "invgauss_perc2_95 = np.percentile(power_invgauss2, 95)\n",
    "\n",
    "gamma_mean2 = np.mean(power_gamma2)\n",
    "gamma_std2 = np.std(power_gamma2)\n",
    "gamma_perc2_5 = np.percentile(power_gamma2, 5)\n",
    "gamma_perc2_95 = np.percentile(power_gamma2, 95)\n",
    "\n",
    "# Prints\n",
    "print(f\"MEAN1 : {mean1} => {invgauss_mean1} (rejected gamma = {gamma_mean1})\")\n",
    "print(f\"STD1 : {std1} => {invgauss_std1} (rejected gamma = {gamma_std1})\")\n",
    "print(f\"PERC1_5 : {perc1_5} => {invgauss_perc1_5} (rejected gamma = {gamma_perc1_5})\")\n",
    "print(f\"PERC1_95 : {perc1_95} => {invgauss_perc1_95} (rejected gamma = {gamma_perc1_95})\\n\")\n",
    "\n",
    "print(f\"MEAN2 : {mean2} => {invgauss_mean2} (rejected gamma = {gamma_mean2})\")\n",
    "print(f\"STD2 : {std2} => {invgauss_std2} (rejected gamma = {gamma_std2})\")\n",
    "print(f\"PERC2_5 : {perc2_5} => {invgauss_perc2_5} (rejected gamma = {gamma_perc2_5})\")\n",
    "print(f\"PERC2_95 : {perc2_95} => {invgauss_perc2_95} (rejected gamma = {gamma_perc2_95})\\n\")"
   ]
  },
  {
   "cell_type": "markdown",
   "metadata": {},
   "source": [
    "Comment briefly your results\n",
    "\n"
   ]
  },
  {
   "cell_type": "markdown",
   "metadata": {},
   "source": [
    "# For the first farm, invgauss seems to fit perfectly. \n",
    "# For the second farm, invgauss is fitting quite well for mean and percentile, but standard deviation is more than 30% bigger than the real one. For mean and standard deviation, gamma distribution fits better"
   ]
  },
  {
   "cell_type": "markdown",
   "metadata": {},
   "source": [
    "------------------------------------------------------------------------------------------------------\n",
    "\n",
    "6.\tSame question as Q.4 but this time, you fit the best distribution by the methods of moments MM, (in Python). Compare parameter estimates and plot pdf’s obtained by MLE and MM for both wind farms.\n",
    "\n",
    "------------------------------------------------------------------------------------------------------"
   ]
  },
  {
   "cell_type": "code",
   "execution_count": 42,
   "metadata": {
    "scrolled": true
   },
   "outputs": [],
   "source": [
    "#code here\n",
    "alpha1MM, loc1MM, beta1MM = sc.gamma.fit(power_df[\"P1\"], method=\"MM\")\n",
    "alpha2MM, loc2MM, beta2MM = sc.gamma.fit(power_df[\"P2\"], method=\"MM\")\n",
    "\n"
   ]
  },
  {
   "cell_type": "markdown",
   "metadata": {},
   "source": [
    "------------------------------------------------------------------------------------------------------\n",
    "\n",
    "7.\tBootstrap 1000 times a sample of 500 daily speeds of wind for Beauvechain and compute a 5% confidence interval for parameter(s) estimates for the best distribution of Question 4) modelling winds in Beauvechain. How do you interpret the results\n",
    "\n",
    "------------------------------------------------------------------------------------------------------"
   ]
  },
  {
   "cell_type": "code",
   "execution_count": 43,
   "metadata": {},
   "outputs": [],
   "source": [
    "#code here\n",
    "\n"
   ]
  },
  {
   "cell_type": "markdown",
   "metadata": {},
   "source": [
    "Comment briefly your results\n",
    "\n"
   ]
  },
  {
   "cell_type": "markdown",
   "metadata": {},
   "source": [
    "------------------------------------------------------------------------------------------------------\n",
    "\n",
    "8.\tLet us denote by X the wind speed observed at Beauvechain on a day of the year. The winds observed over 30 days are denoted by (X1,…,X30). They are realizations of X, a random variable with the distribution fitted in Question 4. If M=max{ X1,…,X30},  \n",
    "\n",
    "•\tfind the statistical law of M (equation requested, hint use the cdf of X) \n",
    "\n",
    "•\tplot the pdf and cdf of M. \n",
    "\n",
    "•\tDetermine the wind value, p5, such that  P(M>p5)=95%.\n",
    "\n",
    "\n",
    "------------------------------------------------------------------------------------------------------"
   ]
  },
  {
   "cell_type": "markdown",
   "metadata": {},
   "source": [
    "Comment briefly your results\n",
    "\n"
   ]
  },
  {
   "cell_type": "code",
   "execution_count": 44,
   "metadata": {},
   "outputs": [],
   "source": [
    "# Code here\n",
    "\n"
   ]
  }
 ],
 "metadata": {
  "kernelspec": {
   "display_name": "Python 3.10.0 64-bit",
   "language": "python",
   "name": "python3"
  },
  "language_info": {
   "codemirror_mode": {
    "name": "ipython",
    "version": 3
   },
   "file_extension": ".py",
   "mimetype": "text/x-python",
   "name": "python",
   "nbconvert_exporter": "python",
   "pygments_lexer": "ipython3",
   "version": "3.10.0"
  },
  "vscode": {
   "interpreter": {
    "hash": "26de051ba29f2982a8de78e945f0abaf191376122a1563185a90213a26c5da77"
   }
  }
 },
 "nbformat": 4,
 "nbformat_minor": 4
}
