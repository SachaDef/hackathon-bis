{
 "cells": [
  {
   "cell_type": "markdown",
   "metadata": {},
   "source": [
    "# Hackathon 1: descriptive statistics, estimation and bootstrapping\n",
    "\n",
    "This project illustrates the course LEPL1109 with an industrial applications of statistics. You will analyse the performance of wind farms located in the Walloon Brabant near Beauvechain and in the high Fens, close to Elsenborn. Each wind farm exploits 8 wind turbines. The kinetic power, noted Pk, (in watt) of one wind turbine is calculated with the formula \n",
    "\n",
    "Pk (W) = 0.5 x Rho x S x V^3\n",
    "\n",
    "Where \n",
    "\n",
    "S   : is the surface of the circle in square meters with a radius equal to the length of blades (32 m).\n",
    "Rho : is the air density (“masse volumique”). We consider here an average value of 1.2 kg/m^3\n",
    "V   : is the speed of wind in m/s.\n",
    "\n",
    "According to the Betz limit, only 59.3% of the kinetic energy from wind can be used to spin the turbine and generate electricity. In reality, turbines cannot reach the Betz limit, and the efficiency is estimated to 42% of the kinetic power. One wind turbine generates an electric power Pe = 0.42 x Pk. \n",
    "\n",
    "The wind turbins are stopped if the wind speed is above 90 km/h.\n",
    "\n",
    "The file “BeauvechainWind.csv” and “Elsenborn.csv” contains the average daily wind speeds, measured in km/h, at Beauvechain and  Elsenborn (source www. https://www.ecad.eu/)\n",
    "\n",
    "FILE FORMAT (MISSING VALUE CODE IS -9999):\n",
    "01-06 SOUID: Source identifier\n",
    "08-15 DATE : Date YYYYMMDD\n",
    "17-21 FG   : wind speed in km/h\n",
    "23-27 Q_FG : Quality code for FG (0='valid'; 1='suspect'; 9='missing')\n",
    "\n",
    "\n",
    "## Report content\n",
    "\n",
    "•\tGrades are granted to the members whose names are in the Jupyter notebook. If your name doesn’t appear on the top of the notebook, you’ll get a 0, even though you are in a group on Moodle.\n",
    "\n",
    "•\tThe jupyter notebook must be compiled with printed results and next submitted via moodle. The absence of compiled results (or non-printed values) leads to a lower grade.\n",
    "\n",
    "## Report submission\n",
    "\n",
    "•\tDeadline, see moodle website. Submission after the deadline will not be accepted.\n",
    "\n",
    "•\tTo submit your report, go to the section “APP” on Moodle and the subsection “Soumission du rapport”. You can upload your work there. Once you are sure that it is your final version, click the button “Envoyer le devoir”. It is important that you don’t forget to click on this button ! \n",
    "\n",
    "•\tReports that have not been uploaded through Moodle will not be corrected.\n",
    "\n",
    "\n",
    "## Names and Noma of participants:\n",
    "\n",
    "Part. 1: Sacha Defrère (51621900)\n",
    "\n",
    "Part. 2: Alexandre Pirot (53811900)\n",
    "\n",
    "Part. 3: Thomas Hautier (80162000)\n",
    "\n",
    "Part. 4: Bryce Burignat (35171700)\n",
    "\n",
    "Part. 5: Mathéo Ketels (23782000)\n",
    "\n",
    "Part. 6: Dylan Goffinet (08471900)\n"
   ]
  },
  {
   "cell_type": "markdown",
   "metadata": {},
   "source": [
    "------------------------------------------------------------------------------------------------------\n",
    "1.\tWrite a function computing the electric power capacity (in Mega Watts = 10^6 W), for the two wind farms using wind data from the 1/1/2017 to the 1/1/2021\n",
    "\n",
    "•\tDo not forget to set the production to zero if the wind speed is above 90 km/h. \n",
    "\n",
    "•\tTake care to converts units.\n",
    "\n",
    "•\tRemove all days with missing data (error code 1 or 9) for Beauvechain or Elsenborn\n",
    "\n",
    "------------------------------------------------------------------------------------------------------"
   ]
  },
  {
   "cell_type": "code",
   "execution_count": 1,
   "metadata": {},
   "outputs": [
    {
     "name": "stdout",
     "output_type": "stream",
     "text": [
      "Total electric power produced at Elsenborn's farm between 01/01/2017 and 01/01/2021 [MW] :  {7989.294853189225}\n",
      "Total electric power produced at Beauvechain's farm between 01/01/2017 and 01/01/2021 [MW] :  {18222.757796311707}\n"
     ]
    }
   ],
   "source": [
    "from cmath import nan\n",
    "import pandas as pd\n",
    "from math import pi\n",
    "import scipy.stats as sc\n",
    "import numpy as np\n",
    "import matplotlib.pyplot as plt\n",
    "\n",
    "# Import and filter invalid data from Elsenborn\n",
    "df1 = pd.read_csv(\"Elsenborn.csv\")\n",
    "df1.columns = [x.strip() for x in df1.columns]\n",
    "df1 = df1.drop('SOUID', axis=1)\n",
    "df1 = df1[ ( (df1['FG'] != -9999) & (df1['Q_FG'] == 0) ) & ( (df1['DATE'] >= 20170101) & (df1['DATE'] <= 20210101) ) ]\n",
    "wind1 = df1['FG']\n",
    "n1 = len(df1.index)\n",
    "\n",
    "# Import and filter invalid data from Beauvechain\n",
    "df2 = pd.read_csv(\"Beauvechain.csv\")\n",
    "df2.columns = [x.strip() for x in df2.columns]\n",
    "df2 = df2.drop('SOUID', axis=1)\n",
    "df2 = df2[(df2[\"FG\"] != -9999) & (df2[\"Q_FG\"] == 0) & (df2['DATE'] >= 20170101) & (df2['DATE'] <= 20210101) ]\n",
    "wind2 = df2['FG']\n",
    "n2= len(df2.index)\n",
    "\n",
    "# Check than every used date is in both df, and check indexes\n",
    "df1['DATE'] = df1['DATE'].transform(lambda x: x if x in df2['DATE'].to_list() else nan)\n",
    "df1.dropna(inplace=True)\n",
    "df1.reset_index(drop=True, inplace=True)\n",
    "\n",
    "df2['DATE'] = df2['DATE'].transform(lambda x: x if x in df1['DATE'].to_list() else nan)\n",
    "df2.dropna(inplace=True)\n",
    "df2.reset_index(drop=True, inplace=True)\n",
    "\n",
    "\n",
    "def electricPower(raw_vit): #returns electric power in MW\n",
    "    vit = raw_vit/3.6\n",
    "\n",
    "    #Pk (W) = 0.5 x Rho x S x V^3\n",
    "    Pk = 0.5*1.2*(pi*(32**2))*(vit**3)\n",
    "    \n",
    "    #Pe = 0.42 x Pk\n",
    "    Pe = 0.42*Pk\n",
    "    return 8*(10**(-6))*Pe\n",
    "\n",
    "def make_power(row):\n",
    "    if row['FG'] > 90 : return 0\n",
    "    return electricPower(row['FG'])\n",
    "    \n",
    "df1[\"POWER\"] = df1.apply(lambda row : make_power(row), axis=1)\n",
    "df2[\"POWER\"] = df2.apply(lambda row : make_power(row), axis=1)\n",
    "\n",
    "print(\"Total electric power produced at Elsenborn's farm between 01/01/2017 and 01/01/2021 [MW] : \", {df1[\"POWER\"].sum()})\n",
    "print(\"Total electric power produced at Beauvechain's farm between 01/01/2017 and 01/01/2021 [MW] : \", {df2[\"POWER\"].sum()})\n",
    "\n",
    "\n"
   ]
  },
  {
   "cell_type": "markdown",
   "metadata": {},
   "source": [
    "Step by step description of our manipulation :\n",
    "\n",
    "1. Importing and filtering the data\n",
    "    1. Importing it as a pandas dataframe from each CSV\n",
    "    2. Dropping the SOUID column\n",
    "    3. Selecting only the correct quality and wind speed values\n",
    "2. Implementing the power formulas as functions\n",
    "3. Adding a new \"POWER\" column to the dataframes, containing the power computed with the previously defined functions\n",
    "4. Computing the sum for everyday between the mentionned dates, to get an idea of the total production\n",
    "\n",
    "We can see that for the same amount of time and the same amount of wind turbines, the Beauvechain farm has produced more than twice the amount of energy the Elsenborn farm has.\n",
    "\n",
    "It is also important to note that some data has been dropped due to not having a corresponding date in the other farm, besides the data dropped due to incorrect values."
   ]
  },
  {
   "cell_type": "markdown",
   "metadata": {},
   "source": [
    "------------------------------------------------------------------------------------------------------------------------\n",
    "\n",
    "2.\tPlot histograms and box plots of electric power capacity (MW) from the 1/1/2017 to the 1/1/2021 (both sites). \n",
    "\n",
    "------------------------------------------------------------------------------------------------------------------------"
   ]
  },
  {
   "cell_type": "code",
   "execution_count": 2,
   "metadata": {},
   "outputs": [
    {
     "data": {
      "text/plain": [
       "Text(0.5, 1.0, 'Power capacity of Beauvechain')"
      ]
     },
     "execution_count": 2,
     "metadata": {},
     "output_type": "execute_result"
    },
    {
     "data": {
      "image/png": "[encoded data removed]",
      "text/plain": [
       "<Figure size 1200x1200 with 4 Axes>"
      ]
     },
     "metadata": {},
     "output_type": "display_data"
    }
   ],
   "source": [
    "fig, axs = plt.subplots(2, 2, figsize=(12, 12), sharey='col')\n",
    "\n",
    "# Dataset 1\n",
    "axs[0][0].boxplot(df1[\"POWER\"].values)\n",
    "axs[0][0].set_title('Box plot of power capacity for Elsenborn')\n",
    "axs[0][1].hist(df1[\"POWER\"].values, bins=20, ec='k')\n",
    "axs[0][1].set_xlabel('Power capacity per day (MW)')\n",
    "axs[0][1].set_ylabel('Number of days')\n",
    "axs[0][1].set_title('Power capacity of Elsenborn')\n",
    "\n",
    "# Dataset 2\n",
    "axs[1][0].boxplot(df2[\"POWER\"].values)\n",
    "axs[1][0].set_title('Box plot of power electricity for Beauvechain')\n",
    "axs[1][1].hist(df2[\"POWER\"].values, bins=20, ec='k')\n",
    "axs[1][1].set_xlabel('Power capacity per day (MW)')\n",
    "axs[1][1].set_ylabel('Number of days')\n",
    "axs[1][1].set_title('Power capacity of Beauvechain')\n"
   ]
  },
  {
   "cell_type": "markdown",
   "metadata": {},
   "source": [
    "------------------------------------------------------------------------------------------------------\n",
    "\n",
    "3.\tCompare the following statistics of both sites and draw a first conclusions\n",
    "\n",
    "•\tAverage and median powers for each farm (MW)\n",
    "\n",
    "•\tStandard deviations of powers, for each farm (MW)\n",
    "\n",
    "•\t5% and 95% percentiles of powers, for each farm (MW)\n",
    "\n",
    "The average and standard deviation of the total power capacities (Beauvechain + Elsenborn).\n",
    "\n",
    "------------------------------------------------------------------------------------------------------"
   ]
  },
  {
   "cell_type": "code",
   "execution_count": 3,
   "metadata": {},
   "outputs": [
    {
     "name": "stdout",
     "output_type": "stream",
     "text": [
      "POWER MEAN : \n",
      "Elsenborn      5.650137802821234\n",
      "Beauvechain    12.887381751281264\n",
      "TOTAL          18.537519554102502\n",
      "\n",
      "POWER MEDIAN : \n",
      "Elsenborn      1.9216158840261655\n",
      "Beauvechain    4.995450667263333\n",
      "\n",
      "POWER STD : \n",
      "Elsenborn      9.76546199330332\n",
      "Beauvechain    18.436977517807893\n",
      "TOTAL          25.03071516391243\n",
      "\n",
      "POWER 5% percentile : \n",
      "Elsenborn      0.10133521263419236\n",
      "Beauvechain    0.24020198550327068\n",
      "\n",
      "POWER 95% percentile : \n",
      "Elsenborn      23.127086422515433\n",
      "Beauvechain    54.0756109922025\n"
     ]
    }
   ],
   "source": [
    "# Stats caracs\n",
    "mean1 = df1[\"POWER\"].mean()\n",
    "mean2 = df2[\"POWER\"].mean()\n",
    "med1 = df1[\"POWER\"].quantile(0.5)\n",
    "med2 = df2[\"POWER\"].quantile(0.5)\n",
    "std1 = df1[\"POWER\"].std()\n",
    "std2 = df2[\"POWER\"].std()\n",
    "perc1_5 = df1[\"POWER\"].quantile(0.05)\n",
    "perc2_5 = df2[\"POWER\"].quantile(0.05)\n",
    "perc1_95 = df1[\"POWER\"].quantile(0.95)\n",
    "perc2_95 = df2[\"POWER\"].quantile(0.95)\n",
    "\n",
    "# SOMME POUR CHAQUE JOUR, puis .mean() et .std()\n",
    "power_df = pd.concat([df1[\"POWER\"], df2[\"POWER\"]], keys=[\"P1\", \"P2\"], axis=1)\n",
    "power_df[\"TOTAL\"] = power_df[\"P1\"] + power_df[\"P2\"]\n",
    "mean = power_df[\"TOTAL\"].mean()\n",
    "std = power_df[\"TOTAL\"].std()\n",
    "\n",
    "print(\"POWER MEAN : \\n\" + \"Elsenborn      \" + str(mean1) + \"\\nBeauvechain    \" + str(mean2) + \"\\nTOTAL          \" + str(mean) + \"\\n\")\n",
    "print(\"POWER MEDIAN : \\n\" + \"Elsenborn      \" + str(med1) + \"\\nBeauvechain    \" + str(med2) + \"\\n\")\n",
    "print(\"POWER STD : \\n\" + \"Elsenborn      \" + str(std1) + \"\\nBeauvechain    \" + str(std2) + \"\\nTOTAL          \" + str(std))\n",
    "print(\"\\nPOWER 5% percentile : \\n\" + \"Elsenborn      \" + str(perc1_5) + \"\\nBeauvechain    \" + str(perc2_5))\n",
    "print(\"\\nPOWER 95% percentile : \\n\" + \"Elsenborn      \" + str(perc1_95) + \"\\nBeauvechain    \" + str(perc2_95))"
   ]
  },
  {
   "cell_type": "markdown",
   "metadata": {},
   "source": [
    "Comment briefly your results\n",
    "\n"
   ]
  },
  {
   "cell_type": "markdown",
   "metadata": {},
   "source": [
    "The mean and the median of the Beauvachain farm are both higher than those of the Elsenborn farm, indicating that the production in the former is greater than the one in the latter. However, the standard deviation in Beauvechain is also greater than the one in Elsenborn, showing that Elsenborn is a much more stable and consistent source of energy."
   ]
  },
  {
   "cell_type": "markdown",
   "metadata": {},
   "source": [
    "\n",
    "------------------------------------------------------------------------------------------------------\n",
    "4.\tFit Gamma and Inverse Gaussian distributions to wind speeds (in Km/h) in Beauvechain and Elsenborn. Estimate their parameters by log-likelihood maximization (MLE). Which distribution is the best one? Compare the histograms of winds with the fitted pdf’s on the same plot.\n",
    "------------------------------------------------------------------------------------------------------"
   ]
  },
  {
   "cell_type": "code",
   "execution_count": 9,
   "metadata": {},
   "outputs": [
    {
     "name": "stdout",
     "output_type": "stream",
     "text": [
      "Log-likelihood of Gamma parameters obtained via MLE for Elsenborn :     -5632.210141196076\n",
      "Log-likelihood of Gamma parameters obtained via MLE for Beauvechain :   -6063.219839552392 \n",
      "\n",
      "Log-likelihood of Inv. Gaussian parameters obtained via MLE for Elsenborn :     -5640.097291194509\n",
      "Log-likelihood of Inv. Gaussian parameters obtained via MLE for Beauvechain :   -6069.737174527976\n"
     ]
    }
   ],
   "source": [
    "# Code here, gamma distribution\n",
    "def log_likelihood_gamma(data, alpha, loc, beta):\n",
    "    ans = []\n",
    "    for x in data:\n",
    "        y = sc.gamma.pdf(x, a=alpha, loc=loc, scale=beta)\n",
    "        ans.append(np.log(y))\n",
    "    return np.sum(ans)\n",
    "\n",
    "alpha1, locg1, beta1=sc.gamma.fit(df1[\"FG\"])\n",
    "alpha2, locg2, beta2=sc.gamma.fit(df2[\"FG\"])\n",
    "\n",
    "logL_gamma1 = log_likelihood_gamma(df1[\"FG\"].values, alpha1, locg1, beta1)\n",
    "logL_gamma2 = log_likelihood_gamma(df2[\"FG\"].values, alpha2, locg2, beta2)\n",
    "\n",
    "print(\"Log-likelihood of Gamma parameters obtained via MLE for Elsenborn :    \", logL_gamma1)\n",
    "print(\"Log-likelihood of Gamma parameters obtained via MLE for Beauvechain :  \", logL_gamma2, \"\\n\")\n",
    "\n",
    "# Code here, inverse Gaussian distribution\n",
    "mu1, loci1, scale1 = sc.invgauss.fit(df1[\"FG\"])\n",
    "mu2, loci2, scale2 = sc.invgauss.fit(df2[\"FG\"])\n",
    "\n",
    "def log_likelihood_invgauss(data, mu, loc, scale):\n",
    "    ans = []\n",
    "    for x in data:\n",
    "        y = sc.gamma.pdf(x, mu, loc, scale)\n",
    "        ans.append(np.log(y))\n",
    "    return np.sum(ans)\n",
    "\n",
    "logL_invgauss1 = log_likelihood_invgauss(df1[\"FG\"].values, mu1, loci1, scale1)\n",
    "logL_invgauss2 = log_likelihood_invgauss(df2[\"FG\"].values, mu2, loci2, scale2)\n",
    "\n",
    "print(\"Log-likelihood of Inv. Gaussian parameters obtained via MLE for Elsenborn :    \", logL_invgauss1)\n",
    "print(\"Log-likelihood of Inv. Gaussian parameters obtained via MLE for Beauvechain :  \", logL_invgauss2)"
   ]
  },
  {
   "cell_type": "code",
   "execution_count": 18,
   "metadata": {},
   "outputs": [
    {
     "data": {
      "text/plain": [
       "<matplotlib.legend.Legend at 0x1f63da0b460>"
      ]
     },
     "execution_count": 18,
     "metadata": {},
     "output_type": "execute_result"
    },
    {
     "data": {
      "image/png": "[encoded data removed]",
      "text/plain": [
       "<Figure size 1200x600 with 2 Axes>"
      ]
     },
     "metadata": {},
     "output_type": "display_data"
    }
   ],
   "source": [
    "# Comparative Plots\n",
    "wind_gamma1 = sc.gamma.rvs(alpha1, locg1, beta1, len(df1[\"FG\"]))\n",
    "wind_invgauss1 = sc.invgauss.rvs(mu1, loci1, scale1, len(df1[\"FG\"]))\n",
    "wind_gamma2 = sc.gamma.rvs(alpha2, locg2, beta2, len(df2[\"FG\"]))\n",
    "wind_invgauss2 = sc.invgauss.rvs(mu2, loci2, scale2, len(df2[\"FG\"]))\n",
    "\n",
    "fig, axs = plt.subplots(1, 2, figsize=(12, 6), sharey='row')\n",
    "axs[0].hist(df1[\"FG\"].values, 20, range=(df1[\"FG\"].values.min(), 150), label=\"Data\", density=True)\n",
    "axs[0].hist(wind_invgauss1, 20, range=(wind_invgauss1.min(), 150), alpha=0.6, label=\"MLE Inv. Gaussian fit\", color=\"green\", density=True)\n",
    "axs[0].hist(wind_gamma1, 20, range=(wind_gamma1.min(), 150), alpha=0.6, label=\"MLE Gamma fit\", color=\"orange\", density=True)\n",
    "axs[0].set_xlabel('Wind speed (km/h)')\n",
    "axs[0].set_ylabel('Probability density obtained via MLE parameters')\n",
    "axs[0].set_title('Gamma and Inv. Gaussian fits for Elsenborn')\n",
    "axs[0].legend()\n",
    "\n",
    "axs[1].hist(df2[\"FG\"].values, 20, range=(df2[\"FG\"].values.min(), 150), label=\"Data\", density=True)\n",
    "axs[1].hist(wind_invgauss2, 20, range=(wind_invgauss2.min(), 150), alpha=0.6, label=\"MLE Inv. Gaussian fit\", color=\"green\", density=True)\n",
    "axs[1].hist(wind_gamma2, 20, range=(wind_gamma2.min(), 150), alpha=0.6, label=\"MLE Gamma fit\", color=\"orange\", density=True)\n",
    "axs[1].set_xlabel('Wind speed (km/h)')\n",
    "axs[1].set_ylabel('Probability density obtained via MLE parameters')\n",
    "axs[1].set_title('Gamma and Inv. Gaussian fits for Beauvechain')\n",
    "axs[1].legend()\n"
   ]
  },
  {
   "cell_type": "markdown",
   "metadata": {},
   "source": [
    "We can see, by comparing the log-likelihood values (which are almost the same) and matching the histograms (which are similarly close to the original data), that the Gamma distribution and the Inverse Gaussian distribution are both very good fits for our data.\n",
    "It is worth noting that the Gamma distribution may be a little better than the other one, since its log-likelihood values are higher, reason why it will be used as the best distribution later on."
   ]
  },
  {
   "cell_type": "markdown",
   "metadata": {},
   "source": [
    "------------------------------------------------------------------------------------------------------\n",
    "5.\tCompute numerically for both sites, the following statistics \n",
    "\n",
    "•\tExpected and median powers for each farm (MW)\n",
    "\n",
    "•\tStandard deviation of powers for each farm (MW)\n",
    "\n",
    "•\t5% and 95% percentiles of powers for each farm (MW)\n",
    "\n",
    "Use the best distributions fitted in Question 4 (not observed values)\n",
    "\n",
    "------------------------------------------------------------------------------------------------------"
   ]
  },
  {
   "cell_type": "code",
   "execution_count": 14,
   "metadata": {},
   "outputs": [
    {
     "name": "stdout",
     "output_type": "stream",
     "text": [
      "MEAN Elsenborn      : Data=5.650137802821234\tVS\tGamma=5.650137802821234\n",
      "MEDIAN Elsenborn    : Data=1.9216158840261655\tVS\tGamma=1.9216158840261655\n",
      "STD Elsenborn       : Data=9.76546199330332\tVS\tGamma=9.762008248900587\n",
      "PERC_5 Elsenborn    : Data=0.10133521263419236\tVS\tGamma=0.10133521263419236\n",
      "PERC_95 Elsenborn   : Data=23.127086422515433\tVS\tGamma=23.127086422515433\n",
      "\n",
      "MEAN Beauvechain    : Data=12.887381751281264\tVS\tGamma=12.887381751281264)\n",
      "MEDIAN Beauvechain  : Data=4.995450667263333\tVS\tGamma=4.995450667263333\n",
      "STD Beauvechain     : Data=18.436977517807893\tVS\tGamma=18.430456924317376\n",
      "PERC_5 Beauvechain  : Data=0.24020198550327068\tVS\tGamma=0.24020198550327068\n",
      "PERC_95 Beauvechain : Data=54.0756109922025\tVS\tGamma=54.0756109922025\n"
     ]
    }
   ],
   "source": [
    "# dataset1 (gamma)\n",
    "gamma_mean1 = np.mean(df1[\"POWER\"])\n",
    "gamma_median1 = np.percentile(df1[\"POWER\"], 50)\n",
    "gamma_std1 = np.std(df1[\"POWER\"])\n",
    "gamma_perc1_5 = np.percentile(df1[\"POWER\"], 5)\n",
    "gamma_perc1_95 = np.percentile(df1[\"POWER\"], 95)\n",
    "\n",
    "# dataset2 (gamma)\n",
    "gamma_mean2 = np.mean(df2[\"POWER\"])\n",
    "gamma_median2 = np.percentile(df2[\"POWER\"], 50)\n",
    "gamma_std2 = np.std(df2[\"POWER\"])\n",
    "gamma_perc2_5 = np.percentile(df2[\"POWER\"], 5)\n",
    "gamma_perc2_95 = np.percentile(df2[\"POWER\"], 95)\n",
    "\n",
    "# Prints\n",
    "print(f\"MEAN Elsenborn      : Data={mean1}\\tVS\\tGamma={gamma_mean1}\")\n",
    "print(f\"MEDIAN Elsenborn    : Data={med1}\\tVS\\tGamma={gamma_median1}\")\n",
    "print(f\"STD Elsenborn       : Data={std1}\\tVS\\tGamma={gamma_std1}\")\n",
    "print(f\"PERC_5 Elsenborn    : Data={perc1_5}\\tVS\\tGamma={gamma_perc1_5}\")\n",
    "print(f\"PERC_95 Elsenborn   : Data={perc1_95}\\tVS\\tGamma={gamma_perc1_95}\\n\")\n",
    "\n",
    "print(f\"MEAN Beauvechain    : Data={mean2}\\tVS\\tGamma={gamma_mean2})\")\n",
    "print(f\"MEDIAN Beauvechain  : Data={med2}\\tVS\\tGamma={gamma_median2}\")\n",
    "print(f\"STD Beauvechain     : Data={std2}\\tVS\\tGamma={gamma_std2}\")\n",
    "print(f\"PERC_5 Beauvechain  : Data={perc2_5}\\tVS\\tGamma={gamma_perc2_5}\")\n",
    "print(f\"PERC_95 Beauvechain : Data={perc2_95}\\tVS\\tGamma={gamma_perc2_95}\")"
   ]
  },
  {
   "cell_type": "markdown",
   "metadata": {},
   "source": [
    "We can see that the Gamma distribution produces values that are almost identical to the original data, the greatest difference being in the standard deviation of Beauvechain (65*10E-4)."
   ]
  },
  {
   "cell_type": "markdown",
   "metadata": {},
   "source": [
    "------------------------------------------------------------------------------------------------------\n",
    "\n",
    "6.\tSame question as Q.4 but this time, you fit the best distribution by the methods of moments MM, (in Python). Compare parameter estimates and plot pdf’s obtained by MLE and MM for both wind farms.\n",
    "\n",
    "------------------------------------------------------------------------------------------------------"
   ]
  },
  {
   "cell_type": "code",
   "execution_count": 20,
   "metadata": {
    "scrolled": true
   },
   "outputs": [
    {
     "name": "stdout",
     "output_type": "stream",
     "text": [
      "Elsenborn   : MLE log-likelihood=-5632.210141196076\tVS\tMM log-likelihood=-5658.230166724467\n",
      "Beauvechain : MLE log-likelihood=-6063.219839552392\tVS\tMM log-likelihood=-6085.804752729843\n"
     ]
    },
    {
     "data": {
      "text/plain": [
       "<matplotlib.legend.Legend at 0x1f6404f1e10>"
      ]
     },
     "execution_count": 20,
     "metadata": {},
     "output_type": "execute_result"
    },
    {
     "data": {
      "image/png": "[encoded data removed]",
      "text/plain": [
       "<Figure size 864x432 with 2 Axes>"
      ]
     },
     "metadata": {
      "needs_background": "light"
     },
     "output_type": "display_data"
    }
   ],
   "source": [
    "alpha1MM, loc1gMM, beta1MM = sc.gamma.fit(df1[\"FG\"], method=\"MM\")\n",
    "alpha2MM, loc2gMM, beta2MM = sc.gamma.fit(df2[\"FG\"], method=\"MM\")\n",
    "\n",
    "logL_gamma1MM = log_likelihood_gamma(df1[\"FG\"].values, alpha1MM, loc1gMM, beta1MM)\n",
    "logL_gamma2MM = log_likelihood_gamma(df2[\"FG\"].values, alpha2MM, loc2gMM, beta2MM)\n",
    "\n",
    "print(f\"Elsenborn   : MLE log-likelihood={logL_gamma1}\\tVS\\tMM log-likelihood={logL_gamma1MM}\")\n",
    "print(f\"Beauvechain : MLE log-likelihood={logL_gamma2}\\tVS\\tMM log-likelihood={logL_gamma2MM}\")\n",
    "\n",
    "wind_gamma1MM = sc.gamma.rvs(alpha1MM, loc1gMM, beta1MM, len(df1[\"FG\"]))\n",
    "wind_gamma2MM = sc.gamma.rvs(alpha2MM, loc2gMM, beta2MM, len(df2[\"FG\"]))\n",
    "\n",
    "fig, axs = plt.subplots(1, 2, figsize=(12, 6), sharey='row')\n",
    "\n",
    "axs[0].hist(df1[\"FG\"].values, 20, range=(df1[\"FG\"].values.min(), 150), label=\"Data\", density=True)\n",
    "axs[0].hist(wind_gamma1, 20, range=(wind_gamma1.min(), 150), alpha=0.6, label=\"MLE Gamma\", color=\"orange\", density=True)\n",
    "axs[0].hist(wind_gamma1MM, 20, range=(wind_gamma1MM.min(), 150), alpha=0.6, label=\"MM Gamma\", color=\"green\", density=True)\n",
    "axs[0].set_xlabel('Wind speed (km/h)')\n",
    "axs[0].set_ylabel('Probability density')\n",
    "axs[0].set_title('MLE and MM Gamma fits for Elsenborn')\n",
    "axs[0].legend()\n",
    "\n",
    "axs[1].hist(df2[\"FG\"].values, 20, range=(df2[\"FG\"].values.min(), 150), label=\"Data\", density=True)\n",
    "axs[1].hist(wind_gamma2, 20, range=(wind_gamma2.min(), 150), alpha=0.6, label=\"MLE Gamma\", color=\"orange\", density=True)\n",
    "axs[1].hist(wind_gamma2MM, 20, range=(wind_gamma2MM.min(), 150), alpha=0.6, label=\"MM Gamma\", color=\"green\", density=True)\n",
    "axs[1].set_xlabel('Wind speed (km/h)')\n",
    "axs[1].set_ylabel('Probability density')\n",
    "axs[1].set_title('MLE and MM Gamma fits for Beauvechain')\n",
    "axs[1].legend()\n",
    "\n"
   ]
  },
  {
   "cell_type": "markdown",
   "metadata": {},
   "source": [
    "We can see both in the log-likelihood values and by inspecting the histograms that for both farms, the MLE gives a better approximation of our data."
   ]
  },
  {
   "cell_type": "markdown",
   "metadata": {},
   "source": [
    "------------------------------------------------------------------------------------------------------\n",
    "\n",
    "7.\tBootstrap 1000 times a sample of 500 daily speeds of wind for Beauvechain and compute a 5% confidence interval for parameter(s) estimates for the best distribution of Question 4) modelling winds in Beauvechain. How do you interpret the results\n",
    "\n",
    "------------------------------------------------------------------------------------------------------"
   ]
  },
  {
   "cell_type": "code",
   "execution_count": 25,
   "metadata": {},
   "outputs": [
    {
     "name": "stderr",
     "output_type": "stream",
     "text": [
      "C:\\Users\\sacha\\AppData\\Local\\Temp/ipykernel_59688/4022527627.py:8: FutureWarning: The behavior of `series[i:j]` with an integer-dtype index is deprecated. In a future version, this will be treated as *label-based* indexing, consistent with e.g. `series[i]` lookups. To retain the old behavior, use `series.iloc[i:j]`. To get the future behavior, use `series.loc[i:j]`.\n",
      "  wind_bootstrap = wind2[:500]\n"
     ]
    },
    {
     "name": "stdout",
     "output_type": "stream",
     "text": [
      ".05 quantile :8\n",
      ".95 quantile :10\n"
     ]
    }
   ],
   "source": [
    "#Loading of the necessary packages\n",
    "import pandas as pd\n",
    "import numpy as np\n",
    "import matplotlib.pyplot as plt\n",
    "import scipy.stats as sc\n",
    "import random as rn\n",
    "\n",
    "wind_bootstrap = wind2[:500]\n",
    "wind_bootstrap = np.array(wind_bootstrap) \n",
    "bet=[]\n",
    "for _ in range (1000):\n",
    "    datm = rn.choices(population=wind_bootstrap, k = 500)\n",
    "    betm_alpha, betm_loc, betm_beta = sc.gamma.fit(data=datm, floc=0)\n",
    "    bet.append(betm_beta)\n",
    "\n",
    "quant_0_05    = np.quantile(bet,q=.05)\n",
    "quant_0_95 = np.quantile(bet,q=.95)\n",
    "\n",
    "#Printing of the desired values\n",
    "\n",
    "print('.05 quantile :' + str(round(quant_0_05)))\n",
    "print('.95 quantile :' + str(round(quant_0_95)))"
   ]
  },
  {
   "cell_type": "markdown",
   "metadata": {},
   "source": [
    "Comment briefly your results\n",
    "\n"
   ]
  },
  {
   "cell_type": "markdown",
   "metadata": {},
   "source": [
    "------------------------------------------------------------------------------------------------------\n",
    "\n",
    "8.\tLet us denote by X the wind speed observed at Beauvechain on a day of the year. The winds observed over 30 days are denoted by (X1,…,X30). They are realizations of X, a random variable with the distribution fitted in Question 4. If M=max{ X1,…,X30},  \n",
    "\n",
    "•\tfind the statistical law of M (equation requested, hint use the cdf of X) \n",
    "\n",
    "•\tplot the pdf and cdf of M. \n",
    "\n",
    "•\tDetermine the wind value, p5, such that  P(M>p5)=95%.\n",
    "\n",
    "\n",
    "------------------------------------------------------------------------------------------------------"
   ]
  },
  {
   "cell_type": "markdown",
   "metadata": {},
   "source": [
    "Comment briefly your results\n",
    "\n"
   ]
  },
  {
   "cell_type": "code",
   "execution_count": null,
   "metadata": {},
   "outputs": [],
   "source": [
    "# M = max(X1, ..., X30)\n",
    "# find statistical law of M (use cdf of X)\n",
    "# plot the pdf and cdf of M\n",
    "# determine the wind value, p5, such that P(M > p5) = 95%\n",
    "\n"
   ]
  }
 ],
 "metadata": {
  "kernelspec": {
   "display_name": "Python 3",
   "language": "python",
   "name": "python3"
  },
  "language_info": {
   "codemirror_mode": {
    "name": "ipython",
    "version": 3
   },
   "file_extension": ".py",
   "mimetype": "text/x-python",
   "name": "python",
   "nbconvert_exporter": "python",
   "pygments_lexer": "ipython3",
   "version": "3.10.8 (tags/v3.10.8:aaaf517, Oct 11 2022, 16:50:30) [MSC v.1933 64 bit (AMD64)]"
  },
  "vscode": {
   "interpreter": {
    "hash": "bbc3c3d932324566a9bf4b4a52ddf64063695fc3adbf25b3fda92572428493bb"
   }
  }
 },
 "nbformat": 4,
 "nbformat_minor": 4
}
